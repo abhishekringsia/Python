{
 "cells": [
  {
   "cell_type": "code",
   "execution_count": 6,
   "metadata": {},
   "outputs": [],
   "source": [
    "import numpy as np # linear algebra\n",
    "import pandas as pd # data processing, CSV file I/O (e.g. pd.read_csv)\n",
    "from sklearn.model_selection import train_test_split\n",
    "from sklearn.linear_model import LinearRegression\n",
    "from sklearn.impute import SimpleImputer\n",
    "from sklearn.metrics import mean_absolute_error"
   ]
  },
  {
   "cell_type": "code",
   "execution_count": 8,
   "metadata": {},
   "outputs": [
    {
     "name": "stdout",
     "output_type": "stream",
     "text": [
      "Success rate 68.84\n"
     ]
    }
   ],
   "source": [
    "#Reading CSV File\n",
    "data = pd.read_csv('data.csv')\n",
    "datacopy = data.copy()\n",
    "\n",
    "#visualize the data\n",
    "\n",
    "#cleaning and preparing data\n",
    "y= datacopy['diagnosis']\n",
    "y = pd.get_dummies(y)\n",
    "X=datacopy.drop(columns =['diagnosis','Unnamed: 32','id'],axis =1)\n",
    "(train_x,test_x,train_y,test_y) = train_test_split(X,y)\n",
    "\n",
    "#creating Model\n",
    "linear_model = LinearRegression()\n",
    "\n",
    "#fit the model // pattern\n",
    "linear_model.fit(train_x,train_y)\n",
    "\n",
    "#predict\n",
    "predict_result = linear_model.predict(test_x)\n",
    "\n",
    "\n",
    "#Evaluate the model\n",
    "result_precntage = round(linear_model.score(test_x, test_y) * 100, 2)\n",
    "print(\"Success rate\" ,result_precntage)"
   ]
  },
  {
   "cell_type": "code",
   "execution_count": null,
   "metadata": {},
   "outputs": [],
   "source": []
  }
 ],
 "metadata": {
  "kernelspec": {
   "display_name": "Python 3",
   "language": "python",
   "name": "python3"
  },
  "language_info": {
   "codemirror_mode": {
    "name": "ipython",
    "version": 3
   },
   "file_extension": ".py",
   "mimetype": "text/x-python",
   "name": "python",
   "nbconvert_exporter": "python",
   "pygments_lexer": "ipython3",
   "version": "3.6.6"
  }
 },
 "nbformat": 4,
 "nbformat_minor": 2
}
